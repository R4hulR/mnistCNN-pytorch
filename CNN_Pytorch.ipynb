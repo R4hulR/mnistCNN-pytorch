{
  "nbformat": 4,
  "nbformat_minor": 0,
  "metadata": {
    "colab": {
      "provenance": [],
      "authorship_tag": "ABX9TyMfopROZowXDn5ny7YJoFLv",
      "include_colab_link": true
    },
    "kernelspec": {
      "name": "python3",
      "display_name": "Python 3"
    },
    "language_info": {
      "name": "python"
    }
  },
  "cells": [
    {
      "cell_type": "markdown",
      "metadata": {
        "id": "view-in-github",
        "colab_type": "text"
      },
      "source": [
        "<a href=\"https://colab.research.google.com/github/R4hulR/mnistCNN-pytorch/blob/main/CNN_Pytorch.ipynb\" target=\"_parent\"><img src=\"https://colab.research.google.com/assets/colab-badge.svg\" alt=\"Open In Colab\"/></a>"
      ]
    },
    {
      "cell_type": "code",
      "source": [
        "import torch\n",
        "import torch.nn as nn\n",
        "import torch.optim as optim\n",
        "from torch.utils.data import DataLoader\n",
        "from torchvision import datasets, transforms\n",
        "from torchvision.utils import make_grid\n",
        "import torch.nn.functional as F\n",
        "import numpy\n",
        "import pandas as pd\n",
        "from sklearn.metrics import confusion_matrix\n",
        "import matplotlib.pyplot as plt\n",
        "%matplotlib inline"
      ],
      "metadata": {
        "id": "wf724i3caHJq"
      },
      "execution_count": 1,
      "outputs": []
    },
    {
      "cell_type": "code",
      "source": [
        "#convert mnist image files into a tensor of 4-dimensions\n",
        "transform = transforms.ToTensor()"
      ],
      "metadata": {
        "id": "Md3PINd2bixH"
      },
      "execution_count": 2,
      "outputs": []
    },
    {
      "cell_type": "code",
      "source": [
        "train_data = datasets.MNIST(root = 'cnn_data',train = True,download = True, transform = transform)"
      ],
      "metadata": {
        "colab": {
          "base_uri": "https://localhost:8080/"
        },
        "id": "9aYnwmvKeO1T",
        "outputId": "a70bb7e0-9d3d-4fc9-97f9-9aaac5e0f0a3"
      },
      "execution_count": 3,
      "outputs": [
        {
          "output_type": "stream",
          "name": "stdout",
          "text": [
            "Downloading http://yann.lecun.com/exdb/mnist/train-images-idx3-ubyte.gz\n",
            "Failed to download (trying next):\n",
            "HTTP Error 403: Forbidden\n",
            "\n",
            "Downloading https://ossci-datasets.s3.amazonaws.com/mnist/train-images-idx3-ubyte.gz\n",
            "Downloading https://ossci-datasets.s3.amazonaws.com/mnist/train-images-idx3-ubyte.gz to cnn_data/MNIST/raw/train-images-idx3-ubyte.gz\n"
          ]
        },
        {
          "output_type": "stream",
          "name": "stderr",
          "text": [
            "100%|██████████| 9912422/9912422 [00:00<00:00, 14233153.81it/s]\n"
          ]
        },
        {
          "output_type": "stream",
          "name": "stdout",
          "text": [
            "Extracting cnn_data/MNIST/raw/train-images-idx3-ubyte.gz to cnn_data/MNIST/raw\n",
            "\n",
            "Downloading http://yann.lecun.com/exdb/mnist/train-labels-idx1-ubyte.gz\n",
            "Failed to download (trying next):\n",
            "HTTP Error 403: Forbidden\n",
            "\n",
            "Downloading https://ossci-datasets.s3.amazonaws.com/mnist/train-labels-idx1-ubyte.gz\n",
            "Downloading https://ossci-datasets.s3.amazonaws.com/mnist/train-labels-idx1-ubyte.gz to cnn_data/MNIST/raw/train-labels-idx1-ubyte.gz\n"
          ]
        },
        {
          "output_type": "stream",
          "name": "stderr",
          "text": [
            "100%|██████████| 28881/28881 [00:00<00:00, 433710.20it/s]\n"
          ]
        },
        {
          "output_type": "stream",
          "name": "stdout",
          "text": [
            "Extracting cnn_data/MNIST/raw/train-labels-idx1-ubyte.gz to cnn_data/MNIST/raw\n",
            "\n",
            "Downloading http://yann.lecun.com/exdb/mnist/t10k-images-idx3-ubyte.gz\n",
            "Failed to download (trying next):\n",
            "HTTP Error 403: Forbidden\n",
            "\n",
            "Downloading https://ossci-datasets.s3.amazonaws.com/mnist/t10k-images-idx3-ubyte.gz\n",
            "Downloading https://ossci-datasets.s3.amazonaws.com/mnist/t10k-images-idx3-ubyte.gz to cnn_data/MNIST/raw/t10k-images-idx3-ubyte.gz\n"
          ]
        },
        {
          "output_type": "stream",
          "name": "stderr",
          "text": [
            "100%|██████████| 1648877/1648877 [00:00<00:00, 3546614.61it/s]\n"
          ]
        },
        {
          "output_type": "stream",
          "name": "stdout",
          "text": [
            "Extracting cnn_data/MNIST/raw/t10k-images-idx3-ubyte.gz to cnn_data/MNIST/raw\n",
            "\n",
            "Downloading http://yann.lecun.com/exdb/mnist/t10k-labels-idx1-ubyte.gz\n",
            "Failed to download (trying next):\n",
            "HTTP Error 403: Forbidden\n",
            "\n",
            "Downloading https://ossci-datasets.s3.amazonaws.com/mnist/t10k-labels-idx1-ubyte.gz\n",
            "Downloading https://ossci-datasets.s3.amazonaws.com/mnist/t10k-labels-idx1-ubyte.gz to cnn_data/MNIST/raw/t10k-labels-idx1-ubyte.gz\n"
          ]
        },
        {
          "output_type": "stream",
          "name": "stderr",
          "text": [
            "100%|██████████| 4542/4542 [00:00<00:00, 2666274.15it/s]"
          ]
        },
        {
          "output_type": "stream",
          "name": "stdout",
          "text": [
            "Extracting cnn_data/MNIST/raw/t10k-labels-idx1-ubyte.gz to cnn_data/MNIST/raw\n",
            "\n"
          ]
        },
        {
          "output_type": "stream",
          "name": "stderr",
          "text": [
            "\n"
          ]
        }
      ]
    },
    {
      "cell_type": "code",
      "source": [
        "print(len(train_data))"
      ],
      "metadata": {
        "colab": {
          "base_uri": "https://localhost:8080/"
        },
        "id": "NVlF8bJye6os",
        "outputId": "931bb361-1897-4a2d-f117-15f72c46e4e8"
      },
      "execution_count": 4,
      "outputs": [
        {
          "output_type": "stream",
          "name": "stdout",
          "text": [
            "60000\n"
          ]
        }
      ]
    },
    {
      "cell_type": "code",
      "source": [
        "test_data = datasets.MNIST(root = 'cnn_data',train = False,download = True, transform = transform)"
      ],
      "metadata": {
        "id": "MFSuWoILfOsY"
      },
      "execution_count": 5,
      "outputs": []
    },
    {
      "cell_type": "code",
      "source": [
        "test_data"
      ],
      "metadata": {
        "colab": {
          "base_uri": "https://localhost:8080/"
        },
        "id": "aQfcMjJjf6_Y",
        "outputId": "601be5d8-73b4-4deb-bf19-ba2d96de6884"
      },
      "execution_count": 6,
      "outputs": [
        {
          "output_type": "execute_result",
          "data": {
            "text/plain": [
              "Dataset MNIST\n",
              "    Number of datapoints: 10000\n",
              "    Root location: cnn_data\n",
              "    Split: Test\n",
              "    StandardTransform\n",
              "Transform: ToTensor()"
            ]
          },
          "metadata": {},
          "execution_count": 6
        }
      ]
    },
    {
      "source": [
        "device = torch.device(\"cuda\" if torch.cuda.is_available() else \"cpu\")\n",
        "print(device)\n",
        "# train_data = train_data.to(device)\n",
        "# test_data = test_data.to(device)"
      ],
      "cell_type": "code",
      "metadata": {
        "colab": {
          "base_uri": "https://localhost:8080/"
        },
        "id": "lNHy8HlphAQy",
        "outputId": "d075f5fc-c7cd-4008-ecb1-c2a21365134a"
      },
      "execution_count": 7,
      "outputs": [
        {
          "output_type": "stream",
          "name": "stdout",
          "text": [
            "cpu\n"
          ]
        }
      ]
    },
    {
      "cell_type": "code",
      "source": [
        "train_loader = DataLoader(train_data,batch_size=10,shuffle=True)\n",
        "test_loader = DataLoader(test_data,batch_size=10,shuffle=True)"
      ],
      "metadata": {
        "id": "ZRWaaYkUhINg"
      },
      "execution_count": 8,
      "outputs": []
    },
    {
      "cell_type": "code",
      "source": [
        "class CNN(nn.Module):\n",
        "  def __init__(self) :\n",
        "    super().__init__()\n",
        "    self.conv1 = nn.Conv2d(1,6,3,1)\n",
        "    self.conv2 = nn.Conv2d(6,16,3,1)\n",
        "    self.fc1 = nn.Linear(5*5*16,120)\n",
        "    self.fc2 = nn.Linear(120,84)\n",
        "    self.fc3 = nn.Linear(84,10)\n",
        "  def forward(self,x):\n",
        "    #convulationl\n",
        "    x = F.relu(self.conv1(x))\n",
        "    x = F.max_pool2d(x,2,2)\n",
        "    x = F.relu(self.conv2(x))\n",
        "    x = F.max_pool2d(x,2,2)\n",
        "    #Linear\n",
        "    x = x.view(-1,5*5*16)\n",
        "    x = F.relu(self.fc1(x))\n",
        "    x = F.relu(self.fc2(x))\n",
        "    x = self.fc3(x)\n",
        "    return F.log_softmax(x,dim=1)"
      ],
      "metadata": {
        "id": "xH1SfWyx0yG1"
      },
      "execution_count": 9,
      "outputs": []
    },
    {
      "cell_type": "code",
      "source": [
        "torch.manual_seed(41)\n",
        "model = CNN().to(device)\n",
        "model"
      ],
      "metadata": {
        "colab": {
          "base_uri": "https://localhost:8080/"
        },
        "id": "UW2Lgkpl8cu0",
        "outputId": "444f720d-6d06-43b8-f60f-adb3231838c9"
      },
      "execution_count": 10,
      "outputs": [
        {
          "output_type": "execute_result",
          "data": {
            "text/plain": [
              "CNN(\n",
              "  (conv1): Conv2d(1, 6, kernel_size=(3, 3), stride=(1, 1))\n",
              "  (conv2): Conv2d(6, 16, kernel_size=(3, 3), stride=(1, 1))\n",
              "  (fc1): Linear(in_features=400, out_features=120, bias=True)\n",
              "  (fc2): Linear(in_features=120, out_features=84, bias=True)\n",
              "  (fc3): Linear(in_features=84, out_features=10, bias=True)\n",
              ")"
            ]
          },
          "metadata": {},
          "execution_count": 10
        }
      ]
    },
    {
      "cell_type": "code",
      "source": [
        "criterion = nn.CrossEntropyLoss()\n",
        "optimizer = optim.Adam(model.parameters(),lr=0.001)"
      ],
      "metadata": {
        "id": "vmu7pk_o8n4v"
      },
      "execution_count": 11,
      "outputs": []
    },
    {
      "cell_type": "code",
      "source": [
        "import time\n",
        "start_time = time.time()\n",
        "#create variables to track things\n",
        "epochs = 5\n",
        "train_losses = []\n",
        "test_losses = []\n",
        "train_correct = []\n",
        "test_correct = []\n",
        "\n",
        "for i in range(epochs):\n",
        "  trn_corr = 0\n",
        "  tst_corr = 0\n",
        "  for b,(X_train,y_train) in enumerate(train_loader):\n",
        "    b+=1\n",
        "    X_train = X_train.to(device)\n",
        "    y_train = y_train.to(device)\n",
        "    y_pred = model(X_train)\n",
        "    loss = criterion(y_pred,y_train)\n",
        "    predicted = torch.max(y_pred.data,1)[1]\n",
        "    trn_corr += (predicted == y_train).sum()\n",
        "    optimizer.zero_grad()\n",
        "    loss.backward()\n",
        "    optimizer.step()\n",
        "    if b%600 == 0:\n",
        "      print(f'Epoch: {i} Batch: {b} Loss: {loss.item()}')\n",
        "  train_losses.append(loss)\n",
        "  train_correct.append(trn_corr)\n",
        "  #test\n",
        "  with torch.no_grad():\n",
        "    for b,(X_test,y_test) in enumerate(test_loader):\n",
        "      X_test = X_test.to(device)\n",
        "      y_test = y_test.to(device)\n",
        "      y_val = model(X_test)\n",
        "      predicted = torch.max(y_val.data,1)[1]\n",
        "      tst_corr += (predicted == y_test).sum()\n",
        "  loss = criterion(y_val,y_test)\n",
        "  test_losses.append(loss)\n",
        "  test_correct.append(tst_corr)\n",
        "current_time = time.time()\n",
        "total = current_time - start_time\n",
        "print(f'Training Took: {total/60} minutes')"
      ],
      "metadata": {
        "colab": {
          "base_uri": "https://localhost:8080/"
        },
        "id": "78sYGjVP9CBx",
        "outputId": "c3cc9205-e11f-49ff-8271-875706581a78"
      },
      "execution_count": 12,
      "outputs": [
        {
          "output_type": "stream",
          "name": "stdout",
          "text": [
            "Epoch: 0 Batch: 600 Loss: 0.1623610556125641\n",
            "Epoch: 0 Batch: 1200 Loss: 0.1502392590045929\n",
            "Epoch: 0 Batch: 1800 Loss: 0.4744560718536377\n",
            "Epoch: 0 Batch: 2400 Loss: 0.14238706231117249\n",
            "Epoch: 0 Batch: 3000 Loss: 0.007758188061416149\n",
            "Epoch: 0 Batch: 3600 Loss: 0.3836284875869751\n",
            "Epoch: 0 Batch: 4200 Loss: 0.0038223876617848873\n",
            "Epoch: 0 Batch: 4800 Loss: 0.0021286322735249996\n",
            "Epoch: 0 Batch: 5400 Loss: 0.0569545142352581\n",
            "Epoch: 0 Batch: 6000 Loss: 0.00038789428072050214\n",
            "Epoch: 1 Batch: 600 Loss: 0.02950388565659523\n",
            "Epoch: 1 Batch: 1200 Loss: 0.01223783753812313\n",
            "Epoch: 1 Batch: 1800 Loss: 0.0017079260433092713\n",
            "Epoch: 1 Batch: 2400 Loss: 0.004794587381184101\n",
            "Epoch: 1 Batch: 3000 Loss: 0.00012589071411639452\n",
            "Epoch: 1 Batch: 3600 Loss: 0.006774441804736853\n",
            "Epoch: 1 Batch: 4200 Loss: 0.00024002441205084324\n",
            "Epoch: 1 Batch: 4800 Loss: 0.011869433335959911\n",
            "Epoch: 1 Batch: 5400 Loss: 0.0003403539885766804\n",
            "Epoch: 1 Batch: 6000 Loss: 0.0003896451380569488\n",
            "Epoch: 2 Batch: 600 Loss: 0.21024510264396667\n",
            "Epoch: 2 Batch: 1200 Loss: 0.11387525498867035\n",
            "Epoch: 2 Batch: 1800 Loss: 0.00019072621944360435\n",
            "Epoch: 2 Batch: 2400 Loss: 0.0065691908821463585\n",
            "Epoch: 2 Batch: 3000 Loss: 0.2275204211473465\n",
            "Epoch: 2 Batch: 3600 Loss: 0.0007478914922103286\n",
            "Epoch: 2 Batch: 4200 Loss: 0.0019253992941230536\n",
            "Epoch: 2 Batch: 4800 Loss: 0.059512533247470856\n",
            "Epoch: 2 Batch: 5400 Loss: 0.0543813519179821\n",
            "Epoch: 2 Batch: 6000 Loss: 0.01018504612147808\n",
            "Epoch: 3 Batch: 600 Loss: 0.005499332211911678\n",
            "Epoch: 3 Batch: 1200 Loss: 0.026672279462218285\n",
            "Epoch: 3 Batch: 1800 Loss: 0.008007621392607689\n",
            "Epoch: 3 Batch: 2400 Loss: 9.643662633607164e-05\n",
            "Epoch: 3 Batch: 3000 Loss: 0.003329239785671234\n",
            "Epoch: 3 Batch: 3600 Loss: 0.06218495965003967\n",
            "Epoch: 3 Batch: 4200 Loss: 0.0006333804340101779\n",
            "Epoch: 3 Batch: 4800 Loss: 0.004127614665776491\n",
            "Epoch: 3 Batch: 5400 Loss: 0.01387433148920536\n",
            "Epoch: 3 Batch: 6000 Loss: 0.002550262724980712\n",
            "Epoch: 4 Batch: 600 Loss: 0.0008760752389207482\n",
            "Epoch: 4 Batch: 1200 Loss: 0.002810646314173937\n",
            "Epoch: 4 Batch: 1800 Loss: 0.0028930034022778273\n",
            "Epoch: 4 Batch: 2400 Loss: 6.752349145244807e-05\n",
            "Epoch: 4 Batch: 3000 Loss: 0.0002992989611811936\n",
            "Epoch: 4 Batch: 3600 Loss: 0.08674381673336029\n",
            "Epoch: 4 Batch: 4200 Loss: 0.04283095896244049\n",
            "Epoch: 4 Batch: 4800 Loss: 0.00030196557054296136\n",
            "Epoch: 4 Batch: 5400 Loss: 0.0006021805456839502\n",
            "Epoch: 4 Batch: 6000 Loss: 0.0017742315540090203\n",
            "Training Took: 3.8094219009081525 minutes\n"
          ]
        }
      ]
    },
    {
      "source": [
        "train_accuracy = [(t/60000)*100 for t in train_correct]\n",
        "test_accuracy = [(t/10000)*100 for t in test_correct]\n",
        "\n",
        "# Print the accuracies for each epoch\n",
        "for i in range(epochs):\n",
        "  print(f\"Epoch {i}: Train Accuracy: {train_accuracy[i]}, Test Accuracy: {test_accuracy[i]}\")"
      ],
      "cell_type": "code",
      "metadata": {
        "colab": {
          "base_uri": "https://localhost:8080/"
        },
        "id": "8awo7JGgFusx",
        "outputId": "59020bce-4975-4a5f-88e3-457d1048aa6e"
      },
      "execution_count": 13,
      "outputs": [
        {
          "output_type": "stream",
          "name": "stdout",
          "text": [
            "Epoch 0: Train Accuracy: 93.76166534423828, Test Accuracy: 97.70999908447266\n",
            "Epoch 1: Train Accuracy: 98.00833129882812, Test Accuracy: 98.55999755859375\n",
            "Epoch 2: Train Accuracy: 98.6066665649414, Test Accuracy: 98.12999725341797\n",
            "Epoch 3: Train Accuracy: 98.88500213623047, Test Accuracy: 98.38999938964844\n",
            "Epoch 4: Train Accuracy: 99.10832977294922, Test Accuracy: 98.58999633789062\n"
          ]
        }
      ]
    },
    {
      "source": [
        "from PIL import Image\n",
        "import torchvision.transforms as transforms\n",
        "\n",
        "# Load and preprocess the image\n",
        "image = Image.open('/content/num6.png').convert('L')  # Convert to grayscale\n",
        "transform = transforms.Compose([\n",
        "    transforms.Resize((28, 28)),\n",
        "    transforms.ToTensor(),\n",
        "    transforms.Normalize((0.1307,), (0.3081,))  # MNIST normalization\n",
        "])\n",
        "image_tensor = transform(image).unsqueeze(0).to(device)\n",
        "\n",
        "# Pass the image to the model\n",
        "with torch.no_grad():\n",
        "    output = model(image_tensor)\n",
        "\n",
        "# Get the predicted digit\n",
        "predicted_digit = torch.argmax(output).item()\n",
        "print(f\"Predicted digit: {predicted_digit}\")"
      ],
      "cell_type": "code",
      "metadata": {
        "colab": {
          "base_uri": "https://localhost:8080/"
        },
        "id": "rQbi9SAvHG60",
        "outputId": "de717487-4922-47ad-ed0c-4428788c1576"
      },
      "execution_count": 14,
      "outputs": [
        {
          "output_type": "stream",
          "name": "stdout",
          "text": [
            "Predicted digit: 6\n"
          ]
        }
      ]
    },
    {
      "source": [
        "torch.save(model.state_dict(), 'mnist_cnn.pt')"
      ],
      "cell_type": "code",
      "metadata": {
        "id": "HIErilr9wLW3"
      },
      "execution_count": 15,
      "outputs": []
    }
  ]
}